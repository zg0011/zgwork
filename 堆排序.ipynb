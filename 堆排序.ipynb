{
 "cells": [
  {
   "cell_type": "markdown",
   "metadata": {},
   "source": [
    "##  堆排序"
   ]
  },
  {
   "cell_type": "code",
   "execution_count": 15,
   "metadata": {
    "collapsed": true
   },
   "outputs": [],
   "source": [
    "\"\"\"\n",
    "如何进行堆排序\n",
    "\"\"\"\n",
    "def adjust_heap(lists,i,size):\n",
    "\tlchild = 2 * i + 1\n",
    "\trchild = 2 * i + 2\n",
    "\tmaxs = 1\n",
    "\tif i < size//2:\n",
    "\t\tif lchild < size and lists[lchild] > lists[maxs]:\n",
    "\t\t\tmaxs = lchild\n",
    "\t\tif rchild < size and lists[rchild] > lists[maxs]:\n",
    "\t\t\tmaxs = rchild\n",
    "\t\tif maxs != i:\n",
    "\t\t\tlists[maxs],lists[i] = lists[i],lists[maxs]\n",
    "\t\t\tadjust_heap(lists,maxs,size)"
   ]
  },
  {
   "cell_type": "code",
   "execution_count": 16,
   "metadata": {
    "collapsed": true
   },
   "outputs": [],
   "source": [
    "def build_heap(lists,size):\n",
    "\tfor i in range(size//2)[::-1]:\n",
    "\t\tadjust_heap(lists,i,size)"
   ]
  },
  {
   "cell_type": "code",
   "execution_count": 17,
   "metadata": {
    "collapsed": true
   },
   "outputs": [],
   "source": [
    "def heap_sort(lists):\n",
    "\t# heap sort\n",
    "\tbuild_heap(lists,len(lists))\n",
    "\tfor i in range(len(lists))[::-1]:\n",
    "\t\tlists[0],lists[i] = lists[i],lists[0]\n",
    "\t\tadjust_heap(lists,0,i)\n",
    "\treturn lists"
   ]
  },
  {
   "cell_type": "code",
   "execution_count": 18,
   "metadata": {},
   "outputs": [
    {
     "name": "stdout",
     "output_type": "stream",
     "text": [
      "排序前的序列为：3 4 2 8 9 5 1 \n",
      "排序后的序列为：2 1 3 4 5 8 9 "
     ]
    }
   ],
   "source": [
    "if __name__ == \"__main__\":\n",
    "\tlists = [3,4,2,8,9,5, 1]\n",
    "\tprint(\"排序前的序列为：\",end='')\n",
    "\tfor i in lists:\n",
    "\t\tprint(i,end=' ')\n",
    "\tprint(\"\\n排序后的序列为：\",end='')\n",
    "\tfor i in heap_sort(lists):\n",
    "\t\tprint(i,end=' ')"
   ]
  },
  {
   "cell_type": "markdown",
   "metadata": {},
   "source": [
    "堆是一种特殊的树形数据结构，其每个结点都有一个值，通常提到的堆都是指一棵完全二叉树，根结点\n",
    "的值小于（或大于）两个子结点的值，同时根结点的两个子树也分别是一个堆。堆排序是一树形选择排\n",
    "序，在排序过程中，将R[l，…，N］看成是一棵完全二叉树的顺序存储结构，利用完全二叉树中双亲结\n",
    "点和孩子结点之间的内在关系来选择最小的元素。\n",
    "堆排序是利用 堆进行排序的\n",
    "堆是一种完全二叉树\n",
    "堆有两种类型: 大根堆 小根堆\n",
    "两种类型的概念如下：\n",
    "大根堆：每个结点的值都大于或等于左右孩子结点\n",
    "小根堆：每个结点的值都小于或等于左右孩子结点"
   ]
  },
  {
   "cell_type": "markdown",
   "metadata": {},
   "source": [
    "堆一般分为大顶堆和小顶堆两种不同的类型。对于给定n个记录的序列（r(l),r(2), · · · ,r(n)), 当且仅当满\n",
    "足条件（r(i）>= r(2i), i=1,2，…，n）时称之为大顶堆，此时堆顶元素必为最大值。对于给 定n个记录的\n",
    "序列（r(l),r(2），…，r(n）），当且仅当满足条件（r(i）=< r(2i+1),i=1,2，…，n）时称之为小顶堆，此\n",
    "时堆顶元素必为最小值。"
   ]
  },
  {
   "cell_type": "markdown",
   "metadata": {},
   "source": [
    "堆排序的思想是对于给定的 n 个记录，初始时把这些记录看作为一棵顺序存储的二叉树，然后将其调整\n",
    "为一个大顶堆，然后将堆的最后一个元素与堆顶元素（即二叉树的根结点）进行交换 后，堆的最后一个\n",
    "元素即为最大记录：接着将前 (n-1)个元素（即不包括最大记录）重新调整 为一个大顶堆，再将堆顶元\n",
    "素与当前堆的最后一个元素进行交换后得到次大的记录，重复该过程直到调整的堆中只剩一个元素时为\n",
    "止，该元素即为最小记录，此时可得到一个有序序列。\n",
    "以序列{90，50，80，16，30，60，70，10，2}为例进行讲解。 如下图所示，其中，上面的数字是数\n",
    "组下标值，第一个元素占位用 ："
   ]
  },
  {
   "cell_type": "markdown",
   "metadata": {},
   "source": [
    "堆排序主要包括两个过程： 一是构建堆： 二是交换堆顶元素与最后一个元素的位置。堆排序思想：\n",
    "首先将待排序的数组构造出一个大根堆\n",
    "取出这个大根堆的堆顶节点(最大值)，与堆的最下最右的元素进行交换，然后把剩下的元素再构造\n",
    "出一个大根堆\n",
    "重复第二步，直到这个大根堆的长度为1，此时完成排序。"
   ]
  },
  {
   "cell_type": "markdown",
   "metadata": {},
   "source": [
    "堆排序方法对记录较少的文件效果一般，但对于记录较多的文件还是很有效的，其运行时间主要耗费在\n",
    "创建堆和反复调整堆上。堆排序即使在最坏情况下，其时间复杂度也为 O(nlogn）。它是一种不稳定的\n",
    "排序方法。"
   ]
  }
 ],
 "metadata": {
  "kernelspec": {
   "display_name": "Python 3",
   "language": "python",
   "name": "python3"
  },
  "language_info": {
   "codemirror_mode": {
    "name": "ipython",
    "version": 3
   },
   "file_extension": ".py",
   "mimetype": "text/x-python",
   "name": "python",
   "nbconvert_exporter": "python",
   "pygments_lexer": "ipython3",
   "version": "3.6.3"
  }
 },
 "nbformat": 4,
 "nbformat_minor": 2
}
