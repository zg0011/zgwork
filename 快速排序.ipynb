{
 "cells": [
  {
   "cell_type": "markdown",
   "metadata": {},
   "source": [
    "## 快速排序"
   ]
  },
  {
   "cell_type": "code",
   "execution_count": 10,
   "metadata": {
    "collapsed": true
   },
   "outputs": [],
   "source": [
    "def QuickSort(myList, start, end):\n",
    "    # 判断start是否小于end,如果为false,直接返回\n",
    "    if start < end:\n",
    "        i, j = start, end\n",
    "        # 设置基准数\n",
    "        base = myList[i]\n",
    "\n",
    "        while i < j:\n",
    "            # 如果列表后边的数比基准数大或相等,则前移一位直到有比基准数小的数\n",
    "            while (i < j) and (myList[j] >= base):\n",
    "                j = j - 1\n",
    "\n",
    "            # 如找到,则把第j个元素赋值给第i个元素\n",
    "            myList[i] = myList[j]\n",
    "\n",
    "            # 同样的方式比较前半区\n",
    "            while (i < j) and (myList[i] <= base):\n",
    "                i = i + 1\n",
    "            myList[j] = myList[i]\n",
    "        # 做完第一轮比较之后,列表被分成了两个半区,并且i=j，此时找到基准值\n",
    "        myList[i] = base\n",
    "\n",
    "        # 递归前后半区\n",
    "        # print(base, myList)\n",
    "        QuickSort(myList, start, i - 1)\n",
    "        QuickSort(myList, j + 1, end)\n",
    "    return myList"
   ]
  },
  {
   "cell_type": "code",
   "execution_count": 11,
   "metadata": {},
   "outputs": [
    {
     "name": "stdout",
     "output_type": "stream",
     "text": [
      "myList: [2, 3, 4, 5, 6, 7, 8, 9]\n"
     ]
    }
   ],
   "source": [
    "myList = [5,8,7,6,3,2,4,9]\n",
    "print(\"myList:\",QuickSort(myList, 0, len(myList) - 1))"
   ]
  },
  {
   "cell_type": "markdown",
   "metadata": {},
   "source": [
    "快速排序是一种非常高效的排序算法，它采用“分而治之” 的思想，把大的拆分为小的， 小的再拆分为更\n",
    "小的。 其原理是：对于一组给定的记录， 通过一趟排序后， 将原序列分为两 部分， 其中前部分的所有\n",
    "记录均比后部分的所有记录小， 然后再依次对前后两部分的记录进 行快速排序，递归该过程，直到序\n",
    "列中的所有记录均有序为止。"
   ]
  },
  {
   "cell_type": "markdown",
   "metadata": {},
   "source": [
    "具体算法步骤如下：\n",
    "1. 优先设置两个变量i和j,设置元素位置i=0,j=len(array)-1;\n",
    "2. 选取第一个元素作为基准值（不固定），即：base = array[i];\n",
    "3. j向左开始移动，每次移动一个元素，即j-=1，直到该元素小于基准值时停下，此时将该值赋值给\n",
    "array[i]，即：array[i] = array[j];\n",
    "4. i向右开始移动，每次移动一个元素，即i+=1，直到该元素大于基准值时停下，此时将该值赋值给\n",
    "array[j]，即：array[j] = array[i];\n",
    "5. 重复执行3/4两个步骤，直到i=j时停下，此时即找到了基准值的位置，即：array[i] = base，目前\n",
    "也就完成了一次排序；\n",
    "def merge_sort(lists): # merge sort if len(lists) <= 1: return lists left = merge_sort(lists[:len(lists)//2]) right = merge_sort(lists[len(lists)//2:]) return merge(left,right) if __name__ == \"__main__\": lists = [49, 38, 65, 97, 76, 13, 27] print(\"排序前的序列为：\",end='') for i in lists: print(i,end=' ') print(\"\\n排序后的序列为：\",end='') for i in merge_sort(lists): print(i,end=' ') 排序前的序列为：49 38 65 97 76 13 27 排序后的序列为：13 27 38 49 65 76 97\n",
    "6. 通过第一轮排序后得出前后两个半区，则继续递归执行前后两半区实现最终排序。"
   ]
  },
  {
   "cell_type": "markdown",
   "metadata": {},
   "source": [
    "当初始的序列整体或局部有序时，快速排序的性能将会下降，此时快速排序将退化为冒 泡排序。\n",
    "快速排序的相关特点如下：\n",
    "最坏情况下快速排序的时间复杂度为 O(n2）；\n",
    "最好情况下快速排序的时间复杂度为 O(nlogn）；\n",
    "快速排序的平均时间复杂度为 O(nlogn）；\n",
    "快速排序的平均空间复杂度为 O(logn）。\n",
    "基准关键字的选取 （暂时了解，以后自查）：\n",
    "基准关键字的选择是决定快速排序算法性能的关键。常用的基准关键字的选择有以下几种方式：\n",
    "1. 三者取中（首、尾、中，三个位置，将三者的中间值作为基准关键字） \n",
    "2. 取随机数"
   ]
  }
 ],
 "metadata": {
  "kernelspec": {
   "display_name": "Python 3",
   "language": "python",
   "name": "python3"
  },
  "language_info": {
   "codemirror_mode": {
    "name": "ipython",
    "version": 3
   },
   "file_extension": ".py",
   "mimetype": "text/x-python",
   "name": "python",
   "nbconvert_exporter": "python",
   "pygments_lexer": "ipython3",
   "version": "3.6.3"
  }
 },
 "nbformat": 4,
 "nbformat_minor": 2
}
