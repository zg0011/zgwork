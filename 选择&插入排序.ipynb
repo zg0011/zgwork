{
 "cells": [
  {
   "cell_type": "markdown",
   "metadata": {},
   "source": [
    "## 选择排序"
   ]
  },
  {
   "cell_type": "code",
   "execution_count": 3,
   "metadata": {
    "collapsed": true
   },
   "outputs": [],
   "source": [
    "def select_sort(lists):\n",
    "    # select sort\n",
    "    for i in range(len(lists)):\n",
    "        min = i\n",
    "        for j in range(i+1,len(lists)):\n",
    "            if lists[min] > lists[j]:\n",
    "                min = j\n",
    "        lists[min],lists[i] = lists[i],lists[min]\n",
    "    return lists"
   ]
  },
  {
   "cell_type": "code",
   "execution_count": 17,
   "metadata": {
    "scrolled": false
   },
   "outputs": [
    {
     "name": "stdout",
     "output_type": "stream",
     "text": [
      "排序前序列为：38 65 97 76 13 27 49 \n",
      "排序后的结果为：13 27 38 49 65 76 97 "
     ]
    }
   ],
   "source": [
    "if __name__ == \"__main__\":\n",
    "    lists = [38,65,97,76,13,27,49]\n",
    "    print(\"排序前序列为：\",end='')\n",
    "    for i in lists:\n",
    "        print(i,end=' ')\n",
    "    print(\"\\n排序后的结果为：\",end='')\n",
    "    for i in select_sort(lists):\n",
    "        print(i,end=' ')"
   ]
  },
  {
   "cell_type": "code",
   "execution_count": null,
   "metadata": {
    "collapsed": true
   },
   "outputs": [],
   "source": [
    "每次选择当前序列的最小值，将其与当前序列的第一个元素交换位置，每迭代一次，当前序列长度减一。\n",
    "选择排序是一种不稳定的排序方法，最好、最坏和平均情况下的时间复杂度都为O(n^2)，空间复杂度为\n",
    "O（1）。"
   ]
  },
  {
   "cell_type": "code",
   "execution_count": null,
   "metadata": {
    "collapsed": true
   },
   "outputs": [],
   "source": [
    "选择排序是一种简单直观的排序算法，它的基本原理如下： 对于给定的一组记录，经过 第一轮比较后\n",
    "得到最小的记录，然后将该记录与第一个记录进行交换； 接着对不包括第一个 记录以外的其他记录进\n",
    "行第二轮比较， 得到最小的记录并与第二个记录进行位置交换；重复该过程， 直到进行比较的记录只\n",
    "有一个时为止。"
   ]
  },
  {
   "cell_type": "code",
   "execution_count": null,
   "metadata": {
    "collapsed": true
   },
   "outputs": [],
   "source": [
    "以数组｛38, 65, 97,. 76, 13, 27, 49｝为例 （假设要求为升序排列〉，具体步骤如下：\n",
    "第一次排序后： 13 [65 97 76 38 27 49]\n",
    "第二次排序后： 13 27 [97 76 38 65 49]\n",
    "第三次排序后： 13 27 38 [76 97 65 49]\n",
    "第四次排序后： 13 27 38 49 [97 65 76]\n",
    "第五次排序后： 13 27 38 49 65 [97 76]\n",
    "第六次排序后： 13 27 38 49 65 76 [97]\n",
    "最后排序结果： 13 27 38 49 65 76 97"
   ]
  },
  {
   "cell_type": "markdown",
   "metadata": {},
   "source": [
    "## 插入排序"
   ]
  },
  {
   "cell_type": "code",
   "execution_count": 5,
   "metadata": {
    "collapsed": true
   },
   "outputs": [],
   "source": [
    "\"\"\"\n",
    "如何进行插入排序\n",
    "\"\"\"\n",
    "def insert_sort(lists):\n",
    "     # insert sort\n",
    "    for i in range(1,len(lists)):\n",
    "        key = lists[i]\n",
    "        j = i - 1\n",
    "        while j >= 0:\n",
    "            if lists[j] > key:\n",
    "                lists[j+1] = lists[j]\n",
    "                lists[j] = key\n",
    "            j -= 1\n",
    "    return lists"
   ]
  },
  {
   "cell_type": "code",
   "execution_count": 6,
   "metadata": {},
   "outputs": [
    {
     "name": "stdout",
     "output_type": "stream",
     "text": [
      "排序前的序列为：38 65 97 76 13 27 49 \n",
      "排序后的序列为；13 27 38 49 65 76 97 "
     ]
    }
   ],
   "source": [
    "if __name__ == \"__main__\":\n",
    "    lists = [38, 65, 97, 76, 13, 27, 49]\n",
    "    print(\"排序前的序列为：\",end='')\n",
    "    for i in lists:\n",
    "        print(i,end=' ')\n",
    "    print(\"\\n排序后的序列为；\",end='')\n",
    "    for i in insert_sort(lists):\n",
    "        print(i,end=' ')"
   ]
  },
  {
   "cell_type": "code",
   "execution_count": null,
   "metadata": {
    "collapsed": true
   },
   "outputs": [],
   "source": [
    "插入排序的基本操作就是将一个数据插入到已经排好序的有序数据中，从而得到一个新的、个数加一的\n",
    "有序数据，算法适用于少量数据的排序。"
   ]
  },
  {
   "cell_type": "code",
   "execution_count": null,
   "metadata": {
    "collapsed": true
   },
   "outputs": [],
   "source": [
    "对于给定的一组记录，初始时假设第一个记录自成一个有序序列，其余的记录为无序序列；接着从第二\n",
    "个记录开始，按照记录的大小依次将当前处理的记录插入到其之前的有序序 列中，直至最后一个记录插\n",
    "入到有序序列中为止。以数组｛38, 65, 97, 76, 13, 27, 49｝为例（假 设要求为升序排列），直接插入排\n",
    "序具体步骤如下："
   ]
  },
  {
   "cell_type": "code",
   "execution_count": null,
   "metadata": {
    "collapsed": true
   },
   "outputs": [],
   "source": [
    "第一步插入 38 以后：［38] 65 97 76 13 27 49\n",
    "第二步插入 65 以后：［38 65] 97 76 13 27 49\n",
    "第三步插入 97 以后：［38 65 97] 76 13 27 49\n",
    "第四步插入 76 以后：［38 65 76 97] 13 27 49\n",
    "第五步插入 13 以后：［13 38 65 76 97] 27 49\n",
    "第六步插入 27 以后： ［13 27 38 65 76 97] 49\n",
    "第七步插入 49 以后：［13 27 38 49 65 76 97]"
   ]
  }
 ],
 "metadata": {
  "kernelspec": {
   "display_name": "Python 3",
   "language": "python",
   "name": "python3"
  },
  "language_info": {
   "codemirror_mode": {
    "name": "ipython",
    "version": 3
   },
   "file_extension": ".py",
   "mimetype": "text/x-python",
   "name": "python",
   "nbconvert_exporter": "python",
   "pygments_lexer": "ipython3",
   "version": "3.6.3"
  }
 },
 "nbformat": 4,
 "nbformat_minor": 2
}
