{
 "cells": [
  {
   "cell_type": "markdown",
   "metadata": {},
   "source": [
    "##  希尔&基数排序"
   ]
  },
  {
   "cell_type": "code",
   "execution_count": 13,
   "metadata": {
    "collapsed": true
   },
   "outputs": [],
   "source": [
    "\n",
    "\"\"\"\n",
    "如何进行希尔排序\n",
    "\"\"\"\n",
    "def shell_sort(lists):\n",
    "\t\"\"\"\n",
    "\t:param lists:\n",
    "\t:return:\n",
    "\t\"\"\"\n",
    "\t# shell sort\n",
    "\tstep = 2\n",
    "\tgroup = len(lists) // 2\n",
    "\twhile group > 0:\n",
    "\t\tfor i in range(group):\n",
    "\t\t\tj = i + group\n",
    "\t\t\twhile j < len(lists):\n",
    "\t\t\t\tk = j - group\n",
    "\t\t\t\tkey = lists[j]\n",
    "\t\t\t\twhile k >= 0:\n",
    "\t\t\t\t\tif lists[k] > key:\n",
    "\t\t\t\t\t\tlists[k+group] = lists[k]\n",
    "\t\t\t\t\t\tlists[k] = key\n",
    "\t\t\t\t\tk -= group\n",
    "\t\t\t\tj += group\n",
    "\t\tgroup //= step\n",
    "\treturn lists"
   ]
  },
  {
   "cell_type": "code",
   "execution_count": 14,
   "metadata": {},
   "outputs": [
    {
     "name": "stdout",
     "output_type": "stream",
     "text": [
      "排序前的序列为：26 53 67 48 57 13 48 32 60 50 \n",
      "排序后的序列为：13 26 32 48 48 50 53 57 60 67 "
     ]
    }
   ],
   "source": [
    "if __name__ == \"__main__\":\n",
    "\tlists = [26,53,67,48,57, 13,48,32, 60,50]\n",
    "\tprint(\"排序前的序列为：\",end='')\n",
    "\tfor i in lists:\n",
    "\t\tprint(i,end=' ')\n",
    "\tprint(\"\\n排序后的序列为：\",end='')\n",
    "\tfor i in shell_sort(lists):\n",
    "\t\tprint(i,end=' ')"
   ]
  },
  {
   "cell_type": "markdown",
   "metadata": {},
   "source": [
    "希尔排序也称为“缩小增量排序”。 它的基本原理是： 首先将待排序的元素分成多个子序 列，使得每个\n",
    "子序列的元素个数相对较少，对各个子序列分别进行直接插入排序，待整个待排序序列“基本有序后”，\n",
    "再对所有元素进行一次直接插入排序。\n",
    "具体步骤如下：\n",
    "（1）选择一个步长序列 tl' t2，…， tk， 满足 ti＞tj (i<j), tk=l 。 （2）按步长序列个数 k，对待排序序列进行 k 趟排序。\n",
    "（3）每趟排序，根据对应的步长 ti，将待排序列分割成 ti 个子序列，分别对各个子序列进行直接插入\n",
    "排序。\n",
    "需要注意的是，当步长因子为 1 时，所有元素作为一个序列来处理，其长度为 n。"
   ]
  },
  {
   "cell_type": "markdown",
   "metadata": {},
   "source": [
    "增量的一般取法：\n",
    "第一次增量的取法为：d=count/2; \n",
    "第二次增量的取法为：d=(count/2)/2; \n",
    "最后一直到：d=1（其实这时可以用插入排序）;"
   ]
  },
  {
   "cell_type": "markdown",
   "metadata": {},
   "source": [
    "希尔排序的关键并不是随便地分组后各自排序，而是将相隔某个 “增量”的记录组成一 个子序列，实现跳\n",
    "跃式的移动，使得排序的效率提高。希尔排序是一种不稳定的排序方法，平均时间复杂度为\n",
    "O(nlogn）， 最差情况下的时间复杂度为 O(n^s)(1<s<2），空间复杂度为 O(1）。"
   ]
  },
  {
   "cell_type": "markdown",
   "metadata": {},
   "source": [
    "##  基数排序"
   ]
  },
  {
   "cell_type": "code",
   "execution_count": 19,
   "metadata": {
    "collapsed": true
   },
   "outputs": [],
   "source": [
    "\"\"\"\n",
    "如何进行基数排序\n",
    "\"\"\"\n",
    "import math\n",
    "\n",
    "def radix_sort(lists,radix=10):\n",
    "\t\"\"\"\n",
    "\t:param lists:\n",
    "\t:param radix:\n",
    "\t:return:\n",
    "\t\"\"\"\n",
    "\tk = int(math.ceil(math.log(max(lists),radix)))\n",
    "\tbucket = [[] for i in range(radix)]\n",
    "\tfor i in range(1,k+1):\n",
    "\t\tfor j in lists:\n",
    "\t\t\tbucket[j//(radix ** (i-1))%(radix ** i)].append(j)\n",
    "\t\tdel lists[:]\n",
    "\t\tfor z in bucket:\n",
    "\t\t\tlists += z\n",
    "\t\t\tdel z[:]\n",
    "\treturn lists"
   ]
  },
  {
   "cell_type": "code",
   "execution_count": 20,
   "metadata": {},
   "outputs": [
    {
     "name": "stdout",
     "output_type": "stream",
     "text": [
      "排序前的序列为：3 4 2 8 9 5 1 \n",
      "排序后的序列为：1 2 3 4 5 8 9 "
     ]
    }
   ],
   "source": [
    "if __name__ == \"__main__\":\n",
    "\tlists = [3,4,2,8,9,5,1]\n",
    "\tprint(\"排序前的序列为：\",end='')\n",
    "\tfor i in lists:\n",
    "\t\tprint(i,end=' ')\n",
    "\tprint(\"\\n排序后的序列为：\",end='')\n",
    "\tfor i in radix_sort(lists):\n",
    "\t\tprint(i,end=' ')"
   ]
  },
  {
   "cell_type": "markdown",
   "metadata": {},
   "source": [
    "基数排序（radix sort〉 属于“分配式排序”（distribution sort），又称“桶子法”（bucket sort 或 bin\n",
    "sort），排序的过程就是将最低位优先法用于单关键字的情况。下面以［73, 22, 93, 43, 55, 14, 28,65，\n",
    "39， 81］为例来介绍排序的基本思想。"
   ]
  },
  {
   "cell_type": "markdown",
   "metadata": {},
   "source": [
    "基数排序法是属于稳定性的排序，其时间复杂度为 O(nlog(r)m）， 其中 r 为所采取的基数，而 m 为堆\n",
    "数。"
   ]
  }
 ],
 "metadata": {
  "kernelspec": {
   "display_name": "Python 3",
   "language": "python",
   "name": "python3"
  },
  "language_info": {
   "codemirror_mode": {
    "name": "ipython",
    "version": 3
   },
   "file_extension": ".py",
   "mimetype": "text/x-python",
   "name": "python",
   "nbconvert_exporter": "python",
   "pygments_lexer": "ipython3",
   "version": "3.6.3"
  }
 },
 "nbformat": 4,
 "nbformat_minor": 2
}
