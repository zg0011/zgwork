{
 "cells": [
  {
   "cell_type": "markdown",
   "metadata": {},
   "source": [
    "## 冒泡&归并排序"
   ]
  },
  {
   "cell_type": "code",
   "execution_count": 27,
   "metadata": {
    "collapsed": true
   },
   "outputs": [],
   "source": [
    "\"\"\"\n",
    "如何进行冒泡排序\n",
    "\"\"\"\n",
    "def bubble_sort(lists):\n",
    "\t# bubble sort\n",
    "\tfor i in range(len(lists)):\n",
    "\t\tfor j in range(i+1,len(lists)):\n",
    "\t\t\tif lists[i] > lists[j]:\n",
    "\t\t\t\tlists[i],lists[j] = lists[j],lists[i]\n",
    "\treturn lists"
   ]
  },
  {
   "cell_type": "code",
   "execution_count": 28,
   "metadata": {},
   "outputs": [
    {
     "name": "stdout",
     "output_type": "stream",
     "text": [
      "排序前的序列为：36 25 48 12 25 65 43 57 \n",
      "排序后的序列为：12 25 25 36 43 48 57 65 "
     ]
    }
   ],
   "source": [
    "if __name__ == \"__main__\":\n",
    "\tlists = [36, 25, 48, 12, 25, 65, 43, 57]\n",
    "\tprint(\"排序前的序列为：\",end='')\n",
    "\tfor i in lists:\n",
    "\t\tprint(i,end=' ')\n",
    "\tprint(\"\\n排序后的序列为：\",end='')\n",
    "\tfor i in bubble_sort(lists):\n",
    "\t\tprint(i,end=' ')"
   ]
  },
  {
   "cell_type": "markdown",
   "metadata": {},
   "source": [
    "冒泡排序顾名思义就是整个过程就像气泡一样往上升，单向冒泡排序的基本思想是（假 设由小到大排\n",
    "序）：对于给定的 n 个记录，从第一个记录开始依次对相邻的两个记录进行比较， 当前面的记录大于\n",
    "后面的记录时，交换其位置，进行一轮比较和换位后，n 个记录中的最大记 录将位于第 n 位；然后对前\n",
    "（n 1 ）个记录进行第二轮比较：重复该过程直到进行比较的记录 只剩下一个时为止。\n",
    "顺序形势：从左向右，两两比较，如果左边元素大于右边，就交换两个元素的位置。"
   ]
  },
  {
   "cell_type": "markdown",
   "metadata": {},
   "source": [
    "以数组｛36, 25, 48, 12, 25, 65, 43, 57｝为例（假设要求为升序排列），具体排序过程如下：\n",
    "初始状态：［36 25 48 12 25 65 43 57]\n",
    "1 次排序：［25 36 12 25 48 43 57 65]\n",
    "2 次排序：［25 12 25 36 43 48] 57 65\n",
    "3 次排序：［12 25 25 36 43] 48 57 65\n",
    "4 次排序：［12 25 25 36] 43 48 57 65\n",
    "5 次排序：［12 25 25] 36 43 48 57 65\n",
    "6 次排序：［12 25] 25 36 43 48 57 65\n",
    "7 次排序：［12] 25 25 36 43 48 57 65"
   ]
  },
  {
   "cell_type": "markdown",
   "metadata": {},
   "source": [
    "冒泡排序是一种稳定的排序方法，最好的情况下的时间复杂度为 O(n)时， 最坏情况下时间复杂度为\n",
    "O(n^2），平均情况下的时间复杂度为 O(n^2）。空间复杂度为 O(1）。"
   ]
  },
  {
   "cell_type": "markdown",
   "metadata": {},
   "source": [
    "## 归并排序"
   ]
  },
  {
   "cell_type": "code",
   "execution_count": 29,
   "metadata": {
    "collapsed": true
   },
   "outputs": [],
   "source": [
    "\"\"\"\n",
    "如何进行归并排序\n",
    "\"\"\"\n",
    "def merge(left,right):\n",
    "\ti,j = 0,0\n",
    "\tresult = []\n",
    "\twhile i < len(left) and j < len(right):\n",
    "\t\tif left[i] <= right[j]:\n",
    "\t\t\tresult.append(left[i])\n",
    "\t\t\ti += 1\n",
    "\t\telse:\n",
    "\t\t\tresult.append(right[j])\n",
    "\t\t\tj += 1\n",
    "\tresult += left[i:]\n",
    "\tresult += right[j:]\n",
    "\treturn result"
   ]
  },
  {
   "cell_type": "code",
   "execution_count": 30,
   "metadata": {
    "collapsed": true
   },
   "outputs": [],
   "source": [
    "def merge_sort(lists):\n",
    "\t# merge sort\n",
    "\tif len(lists) <= 1:\n",
    "\t\treturn lists\n",
    "\tleft = merge_sort(lists[:len(lists)//2])\n",
    "\tright = merge_sort(lists[len(lists)//2:])\n",
    "\treturn merge(left,right)"
   ]
  },
  {
   "cell_type": "code",
   "execution_count": 31,
   "metadata": {},
   "outputs": [
    {
     "name": "stdout",
     "output_type": "stream",
     "text": [
      "排序前的序列为：49 38 65 97 76 13 27 \n",
      "排序后的序列为：13 27 38 49 65 76 97 "
     ]
    }
   ],
   "source": [
    "if __name__ == \"__main__\":\n",
    "\tlists = [49, 38, 65, 97, 76, 13, 27]\n",
    "\tprint(\"排序前的序列为：\",end='')\n",
    "\tfor i in lists:\n",
    "\t\tprint(i,end=' ')\n",
    "\tprint(\"\\n排序后的序列为：\",end='')\n",
    "\tfor i in merge_sort(lists):\n",
    "\t\tprint(i,end=' ')"
   ]
  },
  {
   "cell_type": "markdown",
   "metadata": {},
   "source": [
    "归并排序是利用递归与分治技术将数据序列划分成为越来越小的半子表， 再对半子表排序，最后再用递\n",
    "归步骤将排好序的半子表合并成为越来越大的有序序列。其中“归” 代表的 是递归的意思，即递归地将数\n",
    "组折半地分离为单个数组。例如，数组［2, 6, 1, 0]会先折半，分为［2, 6］和［1, 0]两个子数组，然后\n",
    "再折半将数组分离，分为［2], [6］和［l], [0]。“并”就是将分开的数据按照从小到大或者从大到小的顺\n",
    "序再放到一个数组中。如上面的［2］、［6］合并到一个数组中是［2，6], [1]、[0]合并到一个数组中\n",
    "是［0, l］，然后再将［2, 6］和［0, l］合并到一个数组中 即为［0, 1, 2, 6］。"
   ]
  },
  {
   "cell_type": "markdown",
   "metadata": {},
   "source": [
    "具体而言，归并排序算法的原理如下：对于给定的一组记录（假设共有 n 个记录），首先将每两个相邻\n",
    "的长度为 1 的子序列进行归并，得到 n/2 （ 向上取整〉 个长度为 2 或 1 的有序子序列，再将其两两归\n",
    "井，反复执行此过程，直到得到一个有序序列为止。"
   ]
  },
  {
   "cell_type": "markdown",
   "metadata": {},
   "source": [
    "二路归并排序的过程需要进行 logn 次。每一趟归并排序的操作，就是将两个有序子序列 进行归井，而\n",
    "每一对有序子序列归并时，记录的比较次数均小于等于记录的移动次数，记录移动的次数均等于文件中\n",
    "记录的个数 n，即每一趟归并的时间复杂度为 O(n）。因此二路归并排序在最好、最坏和平均情况的时\n",
    "间复杂度为 O(nlogn），而且是一种稳定的排序方法，空间 复杂度为 O(1）。"
   ]
  }
 ],
 "metadata": {
  "kernelspec": {
   "display_name": "Python 3",
   "language": "python",
   "name": "python3"
  },
  "language_info": {
   "codemirror_mode": {
    "name": "ipython",
    "version": 3
   },
   "file_extension": ".py",
   "mimetype": "text/x-python",
   "name": "python",
   "nbconvert_exporter": "python",
   "pygments_lexer": "ipython3",
   "version": "3.6.3"
  }
 },
 "nbformat": 4,
 "nbformat_minor": 2
}
